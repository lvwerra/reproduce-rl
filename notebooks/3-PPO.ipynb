{
 "cells": [
  {
   "cell_type": "code",
   "execution_count": 16,
   "metadata": {},
   "outputs": [
    {
     "name": "stdout",
     "output_type": "stream",
     "text": [
      "2.0.0-beta1\n"
     ]
    }
   ],
   "source": [
    "import tensorflow.compat.v1 as tf\n",
    "\n",
    "#import tensorflow as tf\n",
    "import gym\n",
    "import numpy as np\n",
    "import matplotlib.pyplot as plt\n",
    "import pandas as pd\n",
    "\n",
    "from tqdm import tqdm_notebook\n",
    "\n",
    "from tensorflow.keras.models import Sequential, Model, clone_model\n",
    "from tensorflow.keras.layers import Dense, Input\n",
    "from tensorflow.keras.optimizers import Adam\n",
    "\n",
    "from utils import get_epsilons, plot_reward\n",
    "\n",
    "print(tf.__version__)\n",
    "tf.disable_v2_behavior()"
   ]
  },
  {
   "cell_type": "markdown",
   "metadata": {},
   "source": [
    "## Create environment"
   ]
  },
  {
   "cell_type": "code",
   "execution_count": 5,
   "metadata": {},
   "outputs": [],
   "source": [
    "env = gym.make('CartPole-v0')"
   ]
  },
  {
   "cell_type": "code",
   "execution_count": 6,
   "metadata": {},
   "outputs": [
    {
     "data": {
      "text/plain": [
       "2"
      ]
     },
     "execution_count": 6,
     "metadata": {},
     "output_type": "execute_result"
    }
   ],
   "source": [
    "env.action_space.n"
   ]
  },
  {
   "cell_type": "code",
   "execution_count": 7,
   "metadata": {},
   "outputs": [
    {
     "data": {
      "text/plain": [
       "4"
      ]
     },
     "execution_count": 7,
     "metadata": {},
     "output_type": "execute_result"
    }
   ],
   "source": [
    "env.observation_space.shape[0]"
   ]
  },
  {
   "cell_type": "markdown",
   "metadata": {},
   "source": [
    "## Define policy network"
   ]
  },
  {
   "cell_type": "code",
   "execution_count": 8,
   "metadata": {},
   "outputs": [],
   "source": [
    "def mlp(observation_space, action_space, shape=[64,64], lr=0.001):\n",
    "    \n",
    "    model = Sequential()\n",
    "    \n",
    "    model.add(Dense(shape[0], input_shape=observation_space, activation=\"tanh\"))\n",
    "    for dim in shape[1:]:\n",
    "        model.add(Dense(dim, activation=\"tanh\"))\n",
    "    model.add(Dense(action_space, activation=\"softmax\"))\n",
    "    \n",
    "    return model"
   ]
  },
  {
   "cell_type": "code",
   "execution_count": 9,
   "metadata": {},
   "outputs": [],
   "source": [
    "def ppo_loss_function(r, advantage, eps):\n",
    "    def loss(y_true, y_pred):\n",
    "        \n",
    "        ppo_loss =  - tf.reduce_mean(tf.math.minimum(tf.multiply(r, advantage),\n",
    "                                                    tf.multiply(tf.clip_by_value(r,\n",
    "                                                                                 tf.subtract(1.,eps),\n",
    "                                                                                 tf.add(1.,eps)),\n",
    "                                                                advantage)))\n",
    "        return ppo_loss\n",
    "    return loss"
   ]
  },
  {
   "cell_type": "code",
   "execution_count": 10,
   "metadata": {},
   "outputs": [],
   "source": [
    "def get_ppo_model(policy_model, observation_space, action_space):\n",
    "    \n",
    "    # placeholders:\n",
    "    obs = Input(shape=(observation_space,))\n",
    "    action = Input(shape=(action_space,))\n",
    "    old_prob = Input(shape=(1,))\n",
    "    advantage = Input(shape=(1,))\n",
    "    eps = Input(shape=(1,))\n",
    "\n",
    "    out_action = policy_model(obs)\n",
    "    \n",
    "    # ppo loss\n",
    "    prob = tf.reduce_sum(tf.multiply(out_action, action), axis=1)\n",
    "    r = tf.divide(prob, old_prob)\n",
    "    \n",
    "    # ppo model\n",
    "    ppo_model = Model(inputs=[obs, action, old_prob, advantage, eps], outputs=[out_action])\n",
    "\n",
    "    # compile model\n",
    "    optimizer = Adam(lr=0.001)\n",
    "    ppo_model.compile(optimizer=optimizer, loss=ppo_loss_function(r, advantage, eps))\n",
    "    \n",
    "    return ppo_model"
   ]
  },
  {
   "cell_type": "code",
   "execution_count": 11,
   "metadata": {},
   "outputs": [],
   "source": [
    "def get_action(action_probs, epsilon, env, stochastic=True):\n",
    "    \"\"\"\n",
    "    Get action from actions space. With probability 1-epsilon,\n",
    "    a random action is sampled, otherwise the action_probs are\n",
    "    used to get an action. If stochastic, the actions are sampled\n",
    "    according to the probablities of each action, otherwise the\n",
    "    action with the highest probability is returned.\n",
    "    \"\"\"\n",
    "    \n",
    "    if np.random.rand()>epsilon:\n",
    "        if stochastic:\n",
    "            action = np.random.choice(list(range(len(action_probs))), p=action_probs)\n",
    "        else:\n",
    "            action = np.argmax(action_probs)\n",
    "    else:\n",
    "        action = env.action_space.sample()\n",
    "    return action\n",
    "\n",
    "def calc_discounted_rewards(r,gamma=0.9):\n",
    "    \"\"\"\n",
    "    Calculate the discounted future rewards with \n",
    "    a gamma factor.\n",
    "    \"\"\"\n",
    "    discounted_rewards = []\n",
    "    \n",
    "    for i in range(len(r)):\n",
    "        tmp_rewards = []\n",
    "        for j in range(len(r)-i):\n",
    "            tmp_rewards.append(r[i+j]*(gamma**j))\n",
    "        discounted_rewards.append(np.sum(tmp_rewards))\n",
    "        \n",
    "    return np.array(discounted_rewards)\n",
    "    "
   ]
  },
  {
   "cell_type": "code",
   "execution_count": 12,
   "metadata": {},
   "outputs": [],
   "source": [
    "def PPO(env, model, n_steps=10*4, epsilon_range=[0.99, 0.1], render=False, eps=0.2, max_steps=200):\n",
    "    \"\"\"\n",
    "    Proximal Policy Optimisation implementation in TensorFlow 2.\n",
    "    \n",
    "    args:\n",
    "        env: OpenAI gym environment\n",
    "        n_steps=10*4: number of training steps\n",
    "        epsilon_range=[0.99, 0.1]: epsilon decay range\n",
    "    \"\"\"\n",
    "    \n",
    "    \n",
    "    obs_shape = env.observation_space\n",
    "    action_space = env.action_space.n\n",
    "    print('obs shape:',obs_shape,'| action space:', action_space)\n",
    "    \n",
    "    \n",
    "    epsilons = get_epsilons(epsilon_range, n_steps)\n",
    "    \n",
    "    dummy_scalar = np.zeros((1,1))\n",
    "    dummy_action = np.zeros((1, action_space))\n",
    "    dummy_inputs = [dummy_action] + 3*[dummy_scalar]\n",
    "    \n",
    "    total_rewards = []\n",
    "    total_discounted_rewards = []\n",
    "    observations = []\n",
    "    rewards = []\n",
    "    actions = []\n",
    "    old_prob = []\n",
    "    losses = []\n",
    "    gradients = []\n",
    "    old_model = clone_model(model)\n",
    "\n",
    "    baseline=0\n",
    "    current_steps = 0\n",
    "    game_done = True\n",
    "    pbar = tqdm_notebook(range(n_steps))\n",
    "    \n",
    "    for i in pbar:\n",
    "        if render:\n",
    "            env.render()\n",
    "\n",
    "        if game_done:\n",
    "            old_model.set_weights(model.get_weights())\n",
    "\n",
    "            if len(rewards)>0:\n",
    "                discounted_rewards = calc_discounted_rewards(rewards, gamma=0.9)\n",
    "                advantage = (discounted_rewards-baseline)\n",
    "                \n",
    "                samples = len(observations)\n",
    "                model.fit(x=[np.array(observations),\n",
    "                             np.array(actions),\n",
    "                             np.array(old_prob),\n",
    "                             np.array(advantage),\n",
    "                             np.tile(eps, samples)],\n",
    "                          y=np.array(old_prob), verbose=0)\n",
    "                \n",
    "                baseline = np.mean(discounted_rewards)\n",
    "                total_discounted_rewards += list(discounted_rewards)\n",
    "                total_rewards.append(sum(rewards))\n",
    "                pbar.set_description('reward: ' +str(total_rewards[-1]))\n",
    "            \n",
    "            obs = env.reset()\n",
    "            observations = []\n",
    "            rewards = []\n",
    "            actions = []\n",
    "            old_prob = []\n",
    "            current_steps=0\n",
    "        \n",
    "        current_steps += 1\n",
    "        observations.append(obs)\n",
    "        action_probs = model.predict([np.expand_dims(obs, axis=0)] + dummy_inputs)\n",
    "        \n",
    "        action = get_action(np.squeeze(action_probs), epsilons[i], env, stochastic=False)\n",
    "        old_prob.append(old_model.predict([np.expand_dims(obs, axis=0)] + dummy_inputs)[:, action])\n",
    "        \n",
    "        obs, reward, game_done,_ = env.step(action)\n",
    "        rewards.append(reward)\n",
    "        action_vec = np.zeros(action_space)\n",
    "        action_vec[action]=1\n",
    "        actions.append(action_vec)\n",
    "        \n",
    "        if current_steps>=max_steps:\n",
    "            game_done=True\n",
    "        \n",
    "    #env.close()\n",
    "\n",
    "    return model, total_rewards"
   ]
  },
  {
   "cell_type": "code",
   "execution_count": 13,
   "metadata": {},
   "outputs": [],
   "source": [
    "policy_model = mlp([env.observation_space.shape[0]], env.action_space.n)\n",
    "ppo_model = get_ppo_model(policy_model, env.observation_space.shape[0], env.action_space.n)"
   ]
  },
  {
   "cell_type": "code",
   "execution_count": 14,
   "metadata": {},
   "outputs": [
    {
     "name": "stderr",
     "output_type": "stream",
     "text": [
      "W0824 21:51:53.352210 4704441792 deprecation.py:506] From /Users/leandro/git/reproduce-rl/env/lib/python3.7/site-packages/tensorflow/python/ops/init_ops.py:97: calling GlorotUniform.__init__ (from tensorflow.python.ops.init_ops) with dtype is deprecated and will be removed in a future version.\n",
      "Instructions for updating:\n",
      "Call initializer instance with the dtype argument instead of passing it to the constructor\n",
      "W0824 21:51:53.353631 4704441792 deprecation.py:506] From /Users/leandro/git/reproduce-rl/env/lib/python3.7/site-packages/tensorflow/python/ops/init_ops.py:97: calling Zeros.__init__ (from tensorflow.python.ops.init_ops) with dtype is deprecated and will be removed in a future version.\n",
      "Instructions for updating:\n",
      "Call initializer instance with the dtype argument instead of passing it to the constructor\n"
     ]
    },
    {
     "name": "stdout",
     "output_type": "stream",
     "text": [
      "obs shape: Box(4,) | action space: 2\n"
     ]
    },
    {
     "data": {
      "application/vnd.jupyter.widget-view+json": {
       "model_id": "4d395e1ae41d41b09fd197037c86b917",
       "version_major": 2,
       "version_minor": 0
      },
      "text/plain": [
       "HBox(children=(IntProgress(value=0, max=100000), HTML(value='')))"
      ]
     },
     "metadata": {},
     "output_type": "display_data"
    },
    {
     "name": "stderr",
     "output_type": "stream",
     "text": [
      "W0824 21:51:53.735882 4704441792 deprecation.py:323] From /Users/leandro/git/reproduce-rl/env/lib/python3.7/site-packages/tensorflow/python/ops/math_grad.py:1250: add_dispatch_support.<locals>.wrapper (from tensorflow.python.ops.array_ops) is deprecated and will be removed in a future version.\n",
      "Instructions for updating:\n",
      "Use tf.where in 2.0, which has the same broadcast rule as np.where\n"
     ]
    },
    {
     "name": "stdout",
     "output_type": "stream",
     "text": [
      "\n"
     ]
    }
   ],
   "source": [
    "model, total_rewards = PPO(env, ppo_model, n_steps=100000, render=False, epsilon_range=[1,0.1], eps=0.2)"
   ]
  },
  {
   "cell_type": "code",
   "execution_count": 17,
   "metadata": {},
   "outputs": [
    {
     "name": "stderr",
     "output_type": "stream",
     "text": [
      "/Users/leandro/git/reproduce-rl/env/lib/python3.7/site-packages/pandas/core/window.py:1833: FutureWarning: using a dict with renaming is deprecated and will be removed\n",
      "in a future version.\n",
      "\n",
      "For column-specific groupby renaming, use named aggregation\n",
      "\n",
      "    >>> df.groupby(...).agg(name=('column', aggfunc))\n",
      "\n",
      "  return super().aggregate(arg, *args, **kwargs)\n"
     ]
    },
    {
     "data": {
      "image/png": "[encoded data removed]",
      "text/plain": [
       "<Figure size 432x288 with 1 Axes>"
      ]
     },
     "metadata": {
      "needs_background": "light"
     },
     "output_type": "display_data"
    }
   ],
   "source": [
    "plot_reward(total_rewards, window=100)"
   ]
  },
  {
   "cell_type": "code",
   "execution_count": null,
   "metadata": {},
   "outputs": [],
   "source": []
  }
 ],
 "metadata": {
  "kernelspec": {
   "display_name": "Python 3",
   "language": "python",
   "name": "python3"
  },
  "language_info": {
   "codemirror_mode": {
    "name": "ipython",
    "version": 3
   },
   "file_extension": ".py",
   "mimetype": "text/x-python",
   "name": "python",
   "nbconvert_exporter": "python",
   "pygments_lexer": "ipython3",
   "version": "3.7.3"
  }
 },
 "nbformat": 4,
 "nbformat_minor": 4
}
