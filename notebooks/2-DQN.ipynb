{
 "cells": [
  {
   "cell_type": "markdown",
   "metadata": {},
   "source": [
    "# Vanilla Policy Gradient\n",
    "In this notebook the Deep Q-Learning Network approach is implemented in TensorFlow."
   ]
  },
  {
   "cell_type": "markdown",
   "metadata": {},
   "source": [
    "### Import dependencies"
   ]
  },
  {
   "cell_type": "code",
   "execution_count": 20,
   "metadata": {},
   "outputs": [],
   "source": [
    "import tensorflow as tf\n",
    "import gym\n",
    "import numpy as np\n",
    "import matplotlib.pyplot as plt\n",
    "import pandas as pd\n",
    "\n",
    "from tqdm import tqdm_notebook\n",
    "\n",
    "from collections import deque\n",
    "from tensorflow.keras.models import Sequential\n",
    "from tensorflow.keras.layers import Dense\n",
    "from tensorflow.keras.optimizers import Adam\n",
    "import random\n",
    "\n",
    "from utils import plot_reward"
   ]
  },
  {
   "cell_type": "markdown",
   "metadata": {},
   "source": [
    "### Setup environment"
   ]
  },
  {
   "cell_type": "code",
   "execution_count": 21,
   "metadata": {},
   "outputs": [],
   "source": [
    "env = gym.make('CartPole-v0')\n"
   ]
  },
  {
   "cell_type": "code",
   "execution_count": 22,
   "metadata": {},
   "outputs": [
    {
     "name": "stdout",
     "output_type": "stream",
     "text": [
      "Discrete(2) 2\n"
     ]
    }
   ],
   "source": [
    "print(env.action_space, env.action_space.n)"
   ]
  },
  {
   "cell_type": "code",
   "execution_count": 23,
   "metadata": {},
   "outputs": [
    {
     "name": "stdout",
     "output_type": "stream",
     "text": [
      "(4,)\n"
     ]
    }
   ],
   "source": [
    "print(env.observation_space.shape)"
   ]
  },
  {
   "cell_type": "markdown",
   "metadata": {},
   "source": [
    "### Helper functions"
   ]
  },
  {
   "cell_type": "code",
   "execution_count": 24,
   "metadata": {},
   "outputs": [],
   "source": [
    "def get_action(action_probs, epsilon, env, stochastic=True):\n",
    "    \"\"\"\n",
    "    Get action from actions space. With probability 1-epsilon,\n",
    "    a random action is sampled, otherwise the action_probs are\n",
    "    used to get an action. If stochastic, the actions are sampled\n",
    "    according to the probablities of each action, otherwise the\n",
    "    action with the highest probability is returned.\n",
    "    \"\"\"\n",
    "    \n",
    "    if np.random.rand()>epsilon:\n",
    "        if stochastic:\n",
    "            action = np.random.choice(list(range(len(action_probs))), p=action_probs)\n",
    "        else:\n",
    "            action = np.argmax(action_probs)\n",
    "    else:\n",
    "        action = env.action_space.sample()\n",
    "    return action\n",
    "\n",
    "def calc_discounted_rewards(r,gamma=0.9):\n",
    "    \"\"\"\n",
    "    Calculate the discounted future rewards with \n",
    "    a gamma factor.\n",
    "    \"\"\"\n",
    "    discounted_rewards = []\n",
    "    \n",
    "    for i in range(len(r)):\n",
    "        tmp_rewards = []\n",
    "        for j in range(len(r)-i):\n",
    "            tmp_rewards.append(r[i+j]*(gamma**j))\n",
    "        discounted_rewards.append(np.sum(tmp_rewards))\n",
    "        \n",
    "    return np.array(discounted_rewards)"
   ]
  },
  {
   "cell_type": "markdown",
   "metadata": {},
   "source": [
    "### Memory for replay buffer"
   ]
  },
  {
   "cell_type": "code",
   "execution_count": 25,
   "metadata": {},
   "outputs": [],
   "source": [
    "class Memory:\n",
    "    \n",
    "    def __init__(self, memory_size=None):\n",
    "        self._memory = deque(maxlen=memory_size)\n",
    "    \n",
    "    def replay(self, n):\n",
    "        return random.sample(self._memory, n)\n",
    "        \n",
    "    def memorize(self, elements):\n",
    "        self._memory.append(elements)\n",
    "        \n",
    "    def __len__(self):\n",
    "        return len(self._memory)"
   ]
  },
  {
   "cell_type": "markdown",
   "metadata": {},
   "source": [
    "### Setup Q-network"
   ]
  },
  {
   "cell_type": "code",
   "execution_count": 26,
   "metadata": {},
   "outputs": [],
   "source": [
    "def qforward(observation_space, action_space, shape=[24,24], lr=0.001):\n",
    "    \n",
    "    model = Sequential()\n",
    "    \n",
    "    model.add(Dense(shape[0], input_shape=observation_space, activation=\"relu\"))\n",
    "    for dim in shape[1:]:\n",
    "        model.add(Dense(dim, activation=\"relu\"))\n",
    "    model.add(Dense(action_space, activation=\"linear\"))\n",
    "    \n",
    "    model.compile(loss=\"mse\", optimizer=Adam(lr=lr))\n",
    "\n",
    "    return model"
   ]
  },
  {
   "cell_type": "markdown",
   "metadata": {},
   "source": [
    "### Setup replay training"
   ]
  },
  {
   "cell_type": "code",
   "execution_count": 27,
   "metadata": {},
   "outputs": [],
   "source": [
    "def model_replay(model, memory, batch_size, gamma):\n",
    "    \n",
    "    if len(memory)<batch_size:\n",
    "        return\n",
    "    \n",
    "    batch = memory.replay(batch_size)\n",
    "    \n",
    "    state_list = []\n",
    "    q_list = []\n",
    "    for state, action, reward, state_next, terminal in batch:\n",
    "        q_update = reward\n",
    "        if not terminal:\n",
    "            q_update = (reward + gamma * np.amax(model.predict(state_next)[0]))\n",
    "        \n",
    "        q_values = model.predict(state)\n",
    "        q_values[0][action] = q_update\n",
    "        q_list.append(q_values)\n",
    "        state_list.append(state)\n",
    "    \n",
    "    state_list = np.concatenate(state_list)\n",
    "    q_list = np.concatenate(q_list)\n",
    "    model.fit(state_list, q_list, verbose=0)"
   ]
  },
  {
   "cell_type": "markdown",
   "metadata": {},
   "source": [
    "### Training Scheme for DQN"
   ]
  },
  {
   "cell_type": "code",
   "execution_count": 28,
   "metadata": {},
   "outputs": [],
   "source": [
    "def DQN(env, n_steps=10**4, epsilon_range=[0.99, 0.1], epsilon_decay=0.999,  render=False, max_memory=10**6, batch_size=20, gamma=0.95, lr=0.001):\n",
    "    \"\"\"\n",
    "    DQN training scheme.\n",
    "    \n",
    "       args:\n",
    "        env: OpenAI gym environment\n",
    "        n_steps=10*4: number of training steps\n",
    "        epsilon_range=[0.99, 0.1]: epsilon decay range\n",
    "        render=False: option to render environment\n",
    "        max_memory=10**6: memeory size of replay buffer\n",
    "        batch_size=20: batch size for network training\n",
    "        \n",
    "    returns:\n",
    "        memory: replay buffer\n",
    "        dqn_model: trained dqn model\n",
    "        total_rewards: list of total rewards during episode\n",
    "    \"\"\"\n",
    "    \n",
    "\n",
    "    obs_shape = env.observation_space.shape\n",
    "    action_space = env.action_space.n\n",
    "    print('obs shape:',obs_shape,'| action space:', action_space)\n",
    "    \n",
    "    dqn_model = qforward(obs_shape, action_space)\n",
    "    \n",
    "    memory = Memory(max_memory)\n",
    "    \n",
    "    epsilons = get_exp_epsilons(epsilon_range, epsilon_decay, n_steps)\n",
    "    \n",
    "    total_rewards = []\n",
    "    tmp_reward = 0\n",
    "\n",
    "    #game_done=True to reset env at the beginning\n",
    "    game_done = True\n",
    "    pbar = tqdm_notebook(range(n_steps))\n",
    "    \n",
    "    for i in pbar:\n",
    "        if render:\n",
    "            env.render()\n",
    "\n",
    "        if game_done:\n",
    "            obs = env.reset()\n",
    "            obs = np.expand_dims(obs, axis=0)\n",
    "            total_rewards.append(tmp_reward)\n",
    "            pbar.set_description('reward: ' +str(tmp_reward))\n",
    "            tmp_reward=0\n",
    "            \n",
    "            \n",
    "        action_qs = dqn_model.predict(obs)\n",
    "        action = get_action(np.squeeze(action_qs), epsilons[i], env, stochastic=False)\n",
    "        next_obs, reward, game_done, info = env.step(action)\n",
    "        \n",
    "        if game_done:\n",
    "            reward = -reward\n",
    "\n",
    "        next_obs = np.expand_dims(next_obs, axis=0)\n",
    "        \n",
    "        memory.memorize([obs, action, reward, next_obs, game_done])  \n",
    "        model_replay(dqn_model, memory, batch_size, gamma)\n",
    "        \n",
    "        obs = next_obs\n",
    "        tmp_reward += reward\n",
    "\n",
    "    env.close()\n",
    "    return memory, dqn_model, total_rewards"
   ]
  },
  {
   "cell_type": "markdown",
   "metadata": {},
   "source": [
    "### Train the Q-network"
   ]
  },
  {
   "cell_type": "code",
   "execution_count": 13,
   "metadata": {},
   "outputs": [
    {
     "name": "stdout",
     "output_type": "stream",
     "text": [
      "obs shape: (4,) | action space: 2\n"
     ]
    },
    {
     "data": {
      "application/vnd.jupyter.widget-view+json": {
       "model_id": "0f1bc7a9b8b04b4883fadf09dc2ddbb1",
       "version_major": 2,
       "version_minor": 0
      },
      "text/plain": [
       "HBox(children=(IntProgress(value=0, max=10000), HTML(value='')))"
      ]
     },
     "metadata": {},
     "output_type": "display_data"
    },
    {
     "name": "stdout",
     "output_type": "stream",
     "text": [
      "\n"
     ]
    }
   ],
   "source": [
    "memory, model, total_rewards = DQN(env,\n",
    "                                   render=False,\n",
    "                                   n_steps=10000,\n",
    "                                   lr=0.001,\n",
    "                                   epsilon_range=[1,0.1],\n",
    "                                   epsilon_decay=0.999,\n",
    "                                   batch_size=20)"
   ]
  },
  {
   "cell_type": "markdown",
   "metadata": {},
   "source": [
    "### Plot rewards"
   ]
  },
  {
   "cell_type": "code",
   "execution_count": 14,
   "metadata": {},
   "outputs": [
    {
     "name": "stderr",
     "output_type": "stream",
     "text": [
      "/Users/leandro/git/reproduce-rl/env/lib/python3.7/site-packages/pandas/core/window.py:1833: FutureWarning: using a dict with renaming is deprecated and will be removed\n",
      "in a future version.\n",
      "\n",
      "For column-specific groupby renaming, use named aggregation\n",
      "\n",
      "    >>> df.groupby(...).agg(name=('column', aggfunc))\n",
      "\n",
      "  return super().aggregate(arg, *args, **kwargs)\n"
     ]
    },
    {
     "data": {
      "image/png": "[encoded data removed]",
      "text/plain": [
       "<Figure size 432x288 with 1 Axes>"
      ]
     },
     "metadata": {
      "needs_background": "light"
     },
     "output_type": "display_data"
    }
   ],
   "source": [
    "plot_reward(total_rewards, window=10)"
   ]
  }
 ],
 "metadata": {
  "kernelspec": {
   "display_name": "Python 3",
   "language": "python",
   "name": "python3"
  },
  "language_info": {
   "codemirror_mode": {
    "name": "ipython",
    "version": 3
   },
   "file_extension": ".py",
   "mimetype": "text/x-python",
   "name": "python",
   "nbconvert_exporter": "python",
   "pygments_lexer": "ipython3",
   "version": "3.7.3"
  }
 },
 "nbformat": 4,
 "nbformat_minor": 4
}
