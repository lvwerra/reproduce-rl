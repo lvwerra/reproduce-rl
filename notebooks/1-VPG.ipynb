{
 "cells": [
  {
   "cell_type": "markdown",
   "metadata": {},
   "source": [
    "# Vanilla Policy Gradient\n",
    "\n",
    "In this notebook the Vanilla Policy Gradient algorithm is implemented in TensorFlow."
   ]
  },
  {
   "cell_type": "markdown",
   "metadata": {},
   "source": [
    "### Import dependencies"
   ]
  },
  {
   "cell_type": "code",
   "execution_count": 20,
   "metadata": {},
   "outputs": [
    {
     "name": "stderr",
     "output_type": "stream",
     "text": [
      "WARNING: Logging before flag parsing goes to stderr.\n",
      "W0822 20:45:52.838207 4453098944 deprecation.py:323] From /Users/leandro/git/reproduce-rl/env/lib/python3.7/site-packages/tensorflow/python/compat/v2_compat.py:65: disable_resource_variables (from tensorflow.python.ops.variable_scope) is deprecated and will be removed in a future version.\n",
      "Instructions for updating:\n",
      "non-resource variables are not supported in the long term\n"
     ]
    }
   ],
   "source": [
    "import tensorflow.compat.v1 as tf\n",
    "import gym\n",
    "import numpy as np\n",
    "import matplotlib.pyplot as plt\n",
    "import pandas as pd\n",
    "from tqdm import tqdm\n",
    "from tensorflow.python.framework import ops\n",
    "tf.disable_v2_behavior()"
   ]
  },
  {
   "cell_type": "markdown",
   "metadata": {},
   "source": [
    "### Setup policy network"
   ]
  },
  {
   "cell_type": "code",
   "execution_count": 21,
   "metadata": {},
   "outputs": [],
   "source": [
    "def mlp(input_dim, output_dim, shape=[128]):\n",
    "    \"\"\"\n",
    "    Setup multilayer perceptron policy network.\n",
    "    \n",
    "    args:\n",
    "        input_dim: dimension of input vector\n",
    "        output_dim: dimension of output vector\n",
    "        shape: shape of hidden layers\n",
    "    \n",
    "    returns:\n",
    "        x_ph: placeholder input\n",
    "        r_ph: placeholder reward\n",
    "        a_ph: placeholder action\n",
    "        probs: probabilities output\n",
    "        log_probs: log probabilities output\n",
    "        train_step: training operation\n",
    "    \"\"\"\n",
    "    \n",
    "    # setup tensorflow placeholders\n",
    "    x_ph = tf.placeholder(tf.float64, shape=[None]+list(input_dim), name='x_ph')\n",
    "    r_ph = tf.placeholder(tf.float64, shape=[None, 1], name='r_ph')\n",
    "    a_ph = tf.placeholder(tf.float64, shape=[None, output_dim], name='a_ph')\n",
    "    \n",
    "    # setup feedforward network\n",
    "    tmp_x = x_ph\n",
    "    for dim in shape:\n",
    "        tmp_x = tf.layers.dense(tmp_x, dim, activation=tf.nn.relu)\n",
    "    probs = tf.layers.dense(tmp_x, output_dim, activation=tf.nn.softmax, name='p_actions')\n",
    "    \n",
    "    # setup losses and optimizer\n",
    "    log_probs = tf.log(tf.reduce_sum(tf.multiply(probs, a_ph), axis=-1), name='log_prob')\n",
    "    loss = tf.multiply(log_probs, r_ph)\n",
    "    loss = -tf.reshape(loss, [-1])\n",
    "    train_step = tf.train.AdamOptimizer().minimize(loss)\n",
    "    \n",
    "    return x_ph, r_ph, a_ph, probs, log_probs, train_step"
   ]
  },
  {
   "cell_type": "markdown",
   "metadata": {},
   "source": [
    "### Setup environment"
   ]
  },
  {
   "cell_type": "code",
   "execution_count": 22,
   "metadata": {},
   "outputs": [],
   "source": [
    "env = gym.make('CartPole-v0')"
   ]
  },
  {
   "cell_type": "code",
   "execution_count": 23,
   "metadata": {},
   "outputs": [
    {
     "data": {
      "text/plain": [
       "(Discrete(2), 2)"
      ]
     },
     "execution_count": 23,
     "metadata": {},
     "output_type": "execute_result"
    }
   ],
   "source": [
    "env.action_space, env.action_space.n"
   ]
  },
  {
   "cell_type": "code",
   "execution_count": 24,
   "metadata": {},
   "outputs": [
    {
     "data": {
      "text/plain": [
       "(4,)"
      ]
     },
     "execution_count": 24,
     "metadata": {},
     "output_type": "execute_result"
    }
   ],
   "source": [
    "env.observation_space.shape"
   ]
  },
  {
   "cell_type": "code",
   "execution_count": 25,
   "metadata": {},
   "outputs": [
    {
     "data": {
      "text/plain": [
       "array([-0.04322151, -0.0316813 ,  0.04285916,  0.03108787])"
      ]
     },
     "execution_count": 25,
     "metadata": {},
     "output_type": "execute_result"
    }
   ],
   "source": [
    "env.reset()"
   ]
  },
  {
   "cell_type": "markdown",
   "metadata": {},
   "source": [
    "### Helper function"
   ]
  },
  {
   "cell_type": "code",
   "execution_count": 1,
   "metadata": {},
   "outputs": [],
   "source": [
    "def get_action(action_probs, epsilon, env, stochastic=True):\n",
    "    \"\"\"\n",
    "    Get action from actions space. With probability 1-epsilon,\n",
    "    a random action is sampled, otherwise the action_probs are\n",
    "    used to get an action. If stochastic, the actions are sampled\n",
    "    according to the probablities of each action, otherwise the\n",
    "    action with the highest probability is returned.\n",
    "    \"\"\"\n",
    "    \n",
    "    if np.random.rand()>epsilon:\n",
    "        if stochastic:\n",
    "            action = np.random.choice(list(range(len(action_probs))), p=action_probs)\n",
    "        else:\n",
    "            action = np.argmax(action_probs)\n",
    "    else:\n",
    "        action = env.action_space.sample()\n",
    "    return action\n",
    "\n",
    "def calc_discounted_rewards(r,gamma=0.9):\n",
    "    \"\"\"\n",
    "    Calculate the discounted future rewards with \n",
    "    a gamma factor.\n",
    "    \"\"\"\n",
    "    discounted_rewards = []\n",
    "    \n",
    "    for i in range(len(r)):\n",
    "        tmp_rewards = []\n",
    "        for j in range(len(r)-i):\n",
    "            tmp_rewards.append(r[i+j]*(gamma**j))\n",
    "        discounted_rewards.append(np.sum(tmp_rewards))\n",
    "        \n",
    "    return np.array(discounted_rewards)   "
   ]
  },
  {
   "cell_type": "markdown",
   "metadata": {},
   "source": [
    "### Show discounted reward example"
   ]
  },
  {
   "cell_type": "code",
   "execution_count": 28,
   "metadata": {},
   "outputs": [
    {
     "data": {
      "image/png": "[encoded data removed]",
      "text/plain": [
       "<Figure size 432x288 with 1 Axes>"
      ]
     },
     "metadata": {
      "needs_background": "light"
     },
     "output_type": "display_data"
    }
   ],
   "source": [
    "test_array= [0]*30+[1,0,0,0,0,0,0,0,0,0,1,0,0,1,0]\n",
    "\n",
    "plt.plot(test_array)\n",
    "plt.plot(calc_discounted_rewards(test_array))\n",
    "plt.show()"
   ]
  },
  {
   "cell_type": "markdown",
   "metadata": {},
   "source": [
    "### Training scheme for VPG"
   ]
  },
  {
   "cell_type": "code",
   "execution_count": 29,
   "metadata": {},
   "outputs": [],
   "source": [
    "def VPG(env, n_steps=10*4, epsilon_range=[0.99, 0.1], render=False):\n",
    "    \"\"\"\n",
    "    Vanilla Policy Gradient implementation in TensorFlow.\n",
    "    \n",
    "    args:\n",
    "        env: OpenAI gym environment\n",
    "        n_steps=10*4: number of training steps\n",
    "        epsilon_range=[0.99, 0.1]: epsilon decay range\n",
    "        render=False: option to render environment\n",
    "        \n",
    "    returns:\n",
    "        observations: list of observations during training\n",
    "        actions: list of observations during training\n",
    "        rewards: list of observations during training\n",
    "        total_rewards: list of total rewards during episode\n",
    "        total_discounted_rewards: list of discounted rewards at eatch step\n",
    "    \"\"\"\n",
    "    \n",
    "    # get env information\n",
    "    obs_shape = env.observation_space.shape\n",
    "    action_space = env.action_space.n\n",
    "    print('obs shape:',obs_shape,'| action space:', action_space)\n",
    "    \n",
    "    # setup tensorflow model\n",
    "    ops.reset_default_graph()\n",
    "    sess = tf.InteractiveSession()\n",
    "    x_ph, r_ph, a_ph, probs, log_probs, train_step = mlp(obs_shape, action_space)\n",
    "    init = tf.global_variables_initializer()\n",
    "    sess = tf.Session()\n",
    "    sess.run(init)\n",
    "    \n",
    "    # get epsilon decay\n",
    "    epsilons = get_epsilons(epsilon_range, n_steps)\n",
    "    \n",
    "    # setup list for storage\n",
    "    total_rewards = []\n",
    "    total_discounted_rewards = []\n",
    "    observations = []\n",
    "    rewards = []\n",
    "    actions = []\n",
    "    \n",
    "    # initialize baseline\n",
    "    baseline=0\n",
    "    \n",
    "    # this is to reset env and get first obs\n",
    "    game_done = True\n",
    "    \n",
    "    # rollout training\n",
    "    for i in tqdm(range(n_steps)):\n",
    "        if render:\n",
    "            env.render()\n",
    "        \n",
    "        # when game is done, optimize network\n",
    "        if game_done:\n",
    "            if len(rewards)>0:\n",
    "                \n",
    "                # calculate discounted rewards and baseline\n",
    "                discounted_rewards = calc_discounted_rewards(rewards, gamma=1)\n",
    "                advantage = discounted_rewards-baseline\n",
    "                \n",
    "                # train policy network\n",
    "                sess.run(train_step, feed_dict={x_ph: np.array(observations),\n",
    "                                                r_ph: np.expand_dims(advantage,axis=1),\n",
    "                                                a_ph: np.array(actions)})\n",
    "                \n",
    "                # update baseline\n",
    "                baseline = np.mean(discounted_rewards)\n",
    "                total_discounted_rewards += list(discounted_rewards)\n",
    "                total_rewards.append(sum(rewards))\n",
    "                \n",
    "            obs = env.reset()\n",
    "            observations = []\n",
    "            rewards = []\n",
    "            actions = []\n",
    "            \n",
    "        observations.append(obs)\n",
    "        \n",
    "        # get action probabilities from policy network\n",
    "        action_probs = sess.run(probs, feed_dict={x_ph: np.expand_dims(obs, axis=0)})\n",
    "        \n",
    "        # get epsilon-greedy action\n",
    "        action = get_action(np.squeeze(action_probs), epsilons[i], env)\n",
    "        \n",
    "        # update environment with chosen action\n",
    "        obs, reward, game_done, info = env.step(action)\n",
    "        \n",
    "        # update lists\n",
    "        rewards.append(reward)\n",
    "        action_vec = np.zeros(action_space)\n",
    "        action_vec[action]=1\n",
    "        actions.append(action_vec)\n",
    "        \n",
    "    env.close()\n",
    "    return observations, actions, rewards, total_rewards, total_discounted_rewards"
   ]
  },
  {
   "cell_type": "markdown",
   "metadata": {},
   "source": [
    "### Run training"
   ]
  },
  {
   "cell_type": "code",
   "execution_count": 30,
   "metadata": {},
   "outputs": [
    {
     "name": "stderr",
     "output_type": "stream",
     "text": [
      "/Users/leandro/git/reproduce-rl/env/lib/python3.7/site-packages/tensorflow/python/client/session.py:1735: UserWarning: An interactive session is already active. This can cause out-of-memory errors in some cases. You must explicitly call `InteractiveSession.close()` to release resources held by the other session(s).\n",
      "  warnings.warn('An interactive session is already active. This can '\n",
      "W0822 20:46:04.030754 4453098944 deprecation.py:323] From <ipython-input-21-705f2d035888>:27: dense (from tensorflow.python.layers.core) is deprecated and will be removed in a future version.\n",
      "Instructions for updating:\n",
      "Use keras.layers.dense instead.\n"
     ]
    },
    {
     "name": "stdout",
     "output_type": "stream",
     "text": [
      "obs shape: (4,) | action space: 2\n"
     ]
    },
    {
     "name": "stderr",
     "output_type": "stream",
     "text": [
      "100%|██████████| 100000/100000 [00:36<00:00, 2738.38it/s]\n"
     ]
    }
   ],
   "source": [
    "obs, actions, rewards,total_rewards, discounted_rewards = VPG(env, n_steps=100000, render=False, epsilon_range=[0,0])"
   ]
  },
  {
   "cell_type": "markdown",
   "metadata": {},
   "source": [
    "### Show results"
   ]
  },
  {
   "cell_type": "code",
   "execution_count": 31,
   "metadata": {},
   "outputs": [
    {
     "name": "stderr",
     "output_type": "stream",
     "text": [
      "/Users/leandro/git/reproduce-rl/env/lib/python3.7/site-packages/pandas/core/window.py:1833: FutureWarning: using a dict with renaming is deprecated and will be removed\n",
      "in a future version.\n",
      "\n",
      "For column-specific groupby renaming, use named aggregation\n",
      "\n",
      "    >>> df.groupby(...).agg(name=('column', aggfunc))\n",
      "\n",
      "  return super().aggregate(arg, *args, **kwargs)\n"
     ]
    },
    {
     "data": {
      "image/png": "[encoded data removed]",
      "text/plain": [
       "<Figure size 432x288 with 1 Axes>"
      ]
     },
     "metadata": {
      "needs_background": "light"
     },
     "output_type": "display_data"
    },
    {
     "data": {
      "image/png": "[encoded data removed]",
      "text/plain": [
       "<Figure size 432x288 with 1 Axes>"
      ]
     },
     "metadata": {
      "needs_background": "light"
     },
     "output_type": "display_data"
    }
   ],
   "source": [
    "plot_reward(discounted_rewards, window=1000, y_label='discounted reward')\n",
    "plot_reward(total_rewards, window=100)"
   ]
  },
  {
   "cell_type": "code",
   "execution_count": 32,
   "metadata": {},
   "outputs": [],
   "source": [
    "import antigravity"
   ]
  },
  {
   "cell_type": "code",
   "execution_count": null,
   "metadata": {},
   "outputs": [],
   "source": []
  }
 ],
 "metadata": {
  "kernelspec": {
   "display_name": "Python 3",
   "language": "python",
   "name": "python3"
  },
  "language_info": {
   "codemirror_mode": {
    "name": "ipython",
    "version": 3
   },
   "file_extension": ".py",
   "mimetype": "text/x-python",
   "name": "python",
   "nbconvert_exporter": "python",
   "pygments_lexer": "ipython3",
   "version": "3.7.3"
  }
 },
 "nbformat": 4,
 "nbformat_minor": 4
}
